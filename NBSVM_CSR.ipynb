{
  "nbformat": 4,
  "nbformat_minor": 0,
  "metadata": {
    "accelerator": "GPU",
    "colab": {
      "name": "NBSVM_CSR.ipynb",
      "provenance": [],
      "collapsed_sections": [],
      "authorship_tag": "ABX9TyORzgUC6qvaIe9jnxX7mVMX",
      "include_colab_link": true
    },
    "kernelspec": {
      "display_name": "Python 3",
      "name": "python3"
    },
    "language_info": {
      "name": "python"
    }
  },
  "cells": [
    {
      "cell_type": "markdown",
      "metadata": {
        "id": "view-in-github",
        "colab_type": "text"
      },
      "source": [
        "<a href=\"https://colab.research.google.com/github/FrostLiam/GoogleExploreCSR_NLP/blob/main/NBSVM_CSR.ipynb\" target=\"_parent\"><img src=\"https://colab.research.google.com/assets/colab-badge.svg\" alt=\"Open In Colab\"/></a>"
      ]
    },
    {
      "cell_type": "code",
      "metadata": {
        "id": "pZKsAlK_SWte"
      },
      "source": [
        "# Load dataset\n",
        "\n",
        "#!pip install -U -q PyDrive\n",
        "from pydrive.auth import GoogleAuth\n",
        "from pydrive.drive import GoogleDrive\n",
        "from google.colab import auth\n",
        "from oauth2client.client import GoogleCredentials\n",
        "\n",
        "google_docs = {\n",
        "    '1-HUEYGrKD67t-4Yc136ioyVztQSE8H7I' : 'fashion_dataset.csv', #raw data\n",
        "\n",
        "    # after data cleaning (label, review)\n",
        "    '1kmTVkueHUYtm1GzbKqOZg00_1OkZOz0V' :'fashion_2_train.csv', \n",
        "    '11mo70rOiutI73IG_7qvqcxBjHF2Wq69u' :'fashion_2_test.csv', \n",
        "}\n",
        "\n",
        "# Authenticate and create the PyDrive client.\n",
        "auth.authenticate_user()\n",
        "gauth = GoogleAuth()\n",
        "gauth.credentials = GoogleCredentials.get_application_default()\n",
        "drive = GoogleDrive(gauth)\n",
        "\n",
        "for key in google_docs:\n",
        "  drive.CreateFile({'id':key}).GetContentFile(google_docs[key])\n"
      ],
      "execution_count": 2,
      "outputs": []
    },
    {
      "cell_type": "code",
      "metadata": {
        "id": "swZJthvGTK3w"
      },
      "source": [
        "!pip install ktrain"
      ],
      "execution_count": null,
      "outputs": []
    },
    {
      "cell_type": "code",
      "metadata": {
        "id": "ncVP6_xmSw2g"
      },
      "source": [
        "import numpy as np\n",
        "import pandas as pd\n",
        "import re\n",
        "\n",
        "import matplotlib.pyplot as plt\n",
        "import seaborn as sns\n",
        "%matplotlib inline\n",
        "\n",
        "import ktrain\n",
        "from ktrain import text"
      ],
      "execution_count": 4,
      "outputs": []
    },
    {
      "cell_type": "code",
      "metadata": {
        "id": "vh9k1d8iWte3"
      },
      "source": [
        "# read in training and test dataset\n",
        "train_df = pd.read_csv('fashion_2_train.csv')\n",
        "test_df = pd.read_csv('fashion_2_test.csv')"
      ],
      "execution_count": 5,
      "outputs": []
    },
    {
      "cell_type": "code",
      "metadata": {
        "colab": {
          "base_uri": "https://localhost:8080/"
        },
        "id": "OfMWKy1_TBLH",
        "outputId": "eddd9c64-3848-471e-c580-2b0441082eb7"
      },
      "source": [
        "train_df.info"
      ],
      "execution_count": null,
      "outputs": [
        {
          "output_type": "execute_result",
          "data": {
            "text/plain": [
              "<bound method DataFrame.info of        label                                             review\n",
              "0          3  I had such high hopes for this dress and reall...\n",
              "1          5  I love, love, love this jumpsuit. it's fun, fl...\n",
              "2          5  This shirt is very flattering to all due to th...\n",
              "3          2  I love tracy reese dresses, but this one is no...\n",
              "4          5  I aded this in my basket at hte last mintue to...\n",
              "...      ...                                                ...\n",
              "13758      1  The styling of this top is so cute but the fab...\n",
              "13759      3  I fell in love with the shirt when i saw it on...\n",
              "13760      5  I tried on te regualr size (xs) as that is all...\n",
              "13761      5  This sweater is substantial, well-made, fabric...\n",
              "13762      4  Great top but it runs smaller than other tops ...\n",
              "\n",
              "[13763 rows x 2 columns]>"
            ]
          },
          "metadata": {
            "tags": []
          },
          "execution_count": 5
        }
      ]
    },
    {
      "cell_type": "code",
      "metadata": {
        "id": "UpL_MypwdWAi"
      },
      "source": [
        "# split both datasets into x and y based off of the review column and the label column\n",
        "# mapped the labels to be strings instead of ints to bypass class_names which kept giving errors\n",
        "\n",
        "x_train = list(train_df['review'])\n",
        "y_train = list(map(str, train_df['label']))\n",
        "x_test = list(test_df['review'])\n",
        "y_test = list(map(str, test_df['label']))"
      ],
      "execution_count": 11,
      "outputs": []
    },
    {
      "cell_type": "code",
      "metadata": {
        "colab": {
          "base_uri": "https://localhost:8080/"
        },
        "id": "O2QxJoL6Z0X1",
        "outputId": "5ec8bace-138d-447b-c6d6-21a0690103e8"
      },
      "source": [
        "(x_train,  y_train), (x_test, y_test), preproc = text.texts_from_array(x_train=x_train, y_train=y_train, x_test=x_test, y_test=y_test,\n",
        "                                          ngram_range=1, lang='en')"
      ],
      "execution_count": 12,
      "outputs": [
        {
          "output_type": "stream",
          "text": [
            "language: en\n",
            "Word Counts: 12219\n",
            "Nrows: 13763\n",
            "13763 train sequences\n",
            "train sequence lengths:\n",
            "\tmean : 62\n",
            "\t95percentile : 102\n",
            "\t99percentile : 107\n",
            "x_train shape: (13763,400)\n",
            "y_train shape: (13763, 5)\n",
            "Is Multi-Label? False\n",
            "5899 test sequences\n",
            "test sequence lengths:\n",
            "\tmean : 63\n",
            "\t95percentile : 102\n",
            "\t99percentile : 107\n",
            "x_test shape: (5899,400)\n",
            "y_test shape: (5899, 5)\n",
            "task: text classification\n"
          ],
          "name": "stdout"
        }
      ]
    },
    {
      "cell_type": "code",
      "metadata": {
        "colab": {
          "base_uri": "https://localhost:8080/"
        },
        "id": "1xu2xYPzngWW",
        "outputId": "ee634984-f517-4c94-8cce-ddd41032bb20"
      },
      "source": [
        "model = text.text_classifier('nbsvm', train_data=(x_train, y_train), preproc=preproc)"
      ],
      "execution_count": 13,
      "outputs": [
        {
          "output_type": "stream",
          "text": [
            "Is Multi-Label? False\n",
            "compiling word ID features...\n",
            "maxlen is 400\n",
            "building document-term matrix... this may take a few moments...\n",
            "rows: 1-10000\n",
            "rows: 10001-13763\n",
            "computing log-count ratios...\n",
            "done.\n"
          ],
          "name": "stdout"
        }
      ]
    },
    {
      "cell_type": "code",
      "metadata": {
        "id": "UqM3K5CboFnc"
      },
      "source": [
        "learner = ktrain.get_learner(model, train_data=(x_train, y_train), val_data=(x_test, y_test))"
      ],
      "execution_count": 14,
      "outputs": []
    },
    {
      "cell_type": "code",
      "metadata": {
        "colab": {
          "base_uri": "https://localhost:8080/",
          "height": 567
        },
        "id": "U4cnPKLRxvCO",
        "outputId": "eb86937f-b5e0-4149-ce30-556077228cf3"
      },
      "source": [
        "learner.lr_find()\n",
        "learner.lr_plot()"
      ],
      "execution_count": 15,
      "outputs": [
        {
          "output_type": "stream",
          "text": [
            "simulating training for different learning rates... this may take a few moments...\n",
            "Epoch 1/1024\n",
            "431/431 [==============================] - 5s 4ms/step - loss: 1.6065 - accuracy: 0.2686\n",
            "Epoch 2/1024\n",
            "431/431 [==============================] - 2s 4ms/step - loss: 1.5836 - accuracy: 0.3748\n",
            "Epoch 3/1024\n",
            "431/431 [==============================] - 2s 4ms/step - loss: 1.1751 - accuracy: 0.5843\n",
            "Epoch 4/1024\n",
            "431/431 [==============================] - 2s 4ms/step - loss: 1.2331 - accuracy: 0.7223\n",
            "Epoch 5/1024\n",
            "431/431 [==============================] - 0s 18us/step - loss: 9.9230 - accuracy: 0.6251\n",
            "\n",
            "\n",
            "done.\n",
            "Please invoke the Learner.lr_plot() method to visually inspect the loss plot to help identify the maximal learning rate associated with falling loss.\n"
          ],
          "name": "stdout"
        },
        {
          "output_type": "display_data",
          "data": {
            "image/png": "[encoded data removed]",
            "text/plain": [
              "<Figure size 432x288 with 1 Axes>"
            ]
          },
          "metadata": {
            "tags": [],
            "needs_background": "light"
          }
        }
      ]
    },
    {
      "cell_type": "code",
      "metadata": {
        "colab": {
          "base_uri": "https://localhost:8080/"
        },
        "id": "H4oPAKNeoPg8",
        "outputId": "abe2cbad-bbd7-477c-f755-de940fd1537e"
      },
      "source": [
        "learner.autofit(2e-2, 10)"
      ],
      "execution_count": 17,
      "outputs": [
        {
          "output_type": "stream",
          "text": [
            "\n",
            "\n",
            "begin training using triangular learning rate policy with max lr of 0.02...\n",
            "Epoch 1/10\n",
            "431/431 [==============================] - 2s 5ms/step - loss: 0.4475 - accuracy: 0.8375 - val_loss: 1.2078 - val_accuracy: 0.5965\n",
            "Epoch 2/10\n",
            "431/431 [==============================] - 2s 5ms/step - loss: 0.4298 - accuracy: 0.8439 - val_loss: 1.2546 - val_accuracy: 0.5993\n",
            "Epoch 3/10\n",
            "431/431 [==============================] - 2s 5ms/step - loss: 0.4148 - accuracy: 0.8492 - val_loss: 1.3015 - val_accuracy: 0.5948\n",
            "Epoch 4/10\n",
            "431/431 [==============================] - 2s 5ms/step - loss: 0.4014 - accuracy: 0.8545 - val_loss: 1.3475 - val_accuracy: 0.5965\n",
            "Epoch 5/10\n",
            "431/431 [==============================] - 2s 5ms/step - loss: 0.3893 - accuracy: 0.8564 - val_loss: 1.4054 - val_accuracy: 0.5915\n",
            "Epoch 6/10\n",
            "431/431 [==============================] - 2s 5ms/step - loss: 0.3806 - accuracy: 0.8625 - val_loss: 1.4455 - val_accuracy: 0.5903\n",
            "Epoch 7/10\n",
            "431/431 [==============================] - 2s 5ms/step - loss: 0.3713 - accuracy: 0.8670 - val_loss: 1.5020 - val_accuracy: 0.5877\n",
            "Epoch 8/10\n",
            "431/431 [==============================] - 2s 5ms/step - loss: 0.3644 - accuracy: 0.8678 - val_loss: 1.5512 - val_accuracy: 0.5847\n",
            "Epoch 9/10\n",
            "431/431 [==============================] - 2s 5ms/step - loss: 0.3586 - accuracy: 0.8706 - val_loss: 1.5952 - val_accuracy: 0.5811\n",
            "Epoch 10/10\n",
            "431/431 [==============================] - 2s 5ms/step - loss: 0.3520 - accuracy: 0.8749 - val_loss: 1.6409 - val_accuracy: 0.5784\n"
          ],
          "name": "stdout"
        },
        {
          "output_type": "execute_result",
          "data": {
            "text/plain": [
              "<tensorflow.python.keras.callbacks.History at 0x7fe810525dd0>"
            ]
          },
          "metadata": {
            "tags": []
          },
          "execution_count": 17
        }
      ]
    },
    {
      "cell_type": "code",
      "metadata": {
        "colab": {
          "base_uri": "https://localhost:8080/"
        },
        "id": "zDDiLXNFwIl0",
        "outputId": "8d4fdacb-9202-468d-b267-0e05781bb5e4"
      },
      "source": [
        "learner.validate()"
      ],
      "execution_count": 18,
      "outputs": [
        {
          "output_type": "stream",
          "text": [
            "              precision    recall  f1-score   support\n",
            "\n",
            "           0       0.20      0.20      0.20       224\n",
            "           1       0.22      0.18      0.20       422\n",
            "           2       0.33      0.31      0.32       744\n",
            "           3       0.39      0.37      0.38      1332\n",
            "           4       0.76      0.81      0.78      3177\n",
            "\n",
            "    accuracy                           0.58      5899\n",
            "   macro avg       0.38      0.37      0.38      5899\n",
            "weighted avg       0.56      0.58      0.57      5899\n",
            "\n"
          ],
          "name": "stdout"
        },
        {
          "output_type": "execute_result",
          "data": {
            "text/plain": [
              "array([[  45,   63,   62,   30,   24],\n",
              "       [  35,   78,  160,   96,   53],\n",
              "       [  55,  110,  230,  221,  128],\n",
              "       [  37,   55,  147,  489,  604],\n",
              "       [  52,   41,  107,  407, 2570]])"
            ]
          },
          "metadata": {
            "tags": []
          },
          "execution_count": 18
        }
      ]
    },
    {
      "cell_type": "code",
      "metadata": {
        "id": "kA4xdJOxp-FT"
      },
      "source": [
        "predictor = ktrain.get_predictor(learner.model, preproc)"
      ],
      "execution_count": 19,
      "outputs": []
    },
    {
      "cell_type": "code",
      "metadata": {
        "colab": {
          "base_uri": "https://localhost:8080/"
        },
        "id": "g96FmJwewv_p",
        "outputId": "e21267f7-069f-4dde-a6c7-a8e9b737ab8c"
      },
      "source": [
        "predictor.get_classes()"
      ],
      "execution_count": 21,
      "outputs": [
        {
          "output_type": "execute_result",
          "data": {
            "text/plain": [
              "['1', '2', '3', '4', '5']"
            ]
          },
          "metadata": {
            "tags": []
          },
          "execution_count": 21
        }
      ]
    },
    {
      "cell_type": "code",
      "metadata": {
        "colab": {
          "base_uri": "https://localhost:8080/",
          "height": 35
        },
        "id": "ujiv3inKqFEN",
        "outputId": "5e10fcce-9be0-4db2-cd63-35afef9c56a7"
      },
      "source": [
        "# actual rating was 4\n",
        "predictor.predict(\"The material feels nice and i love the flared arms.\")"
      ],
      "execution_count": 24,
      "outputs": [
        {
          "output_type": "execute_result",
          "data": {
            "application/vnd.google.colaboratory.intrinsic+json": {
              "type": "string"
            },
            "text/plain": [
              "'3'"
            ]
          },
          "metadata": {
            "tags": []
          },
          "execution_count": 24
        }
      ]
    },
    {
      "cell_type": "code",
      "metadata": {
        "colab": {
          "base_uri": "https://localhost:8080/",
          "height": 35
        },
        "id": "MDx0qwEiN_0X",
        "outputId": "f5f005a4-f292-43dc-f435-77aa451c6cc2"
      },
      "source": [
        "# actual rating was 1\n",
        "predictor.predict(\"I love the teal color of this t-shirt and the macrame design at the top is beautiful, however, the top is way too large.  i usually wear a size xs or s in retailer tops, so i ordered the size s, there is so much fabric below the chest it fits like a maternity top.  i know if i order an xs, i will have the same problem.  below the bust, the top is not flattering and it&amp;#39;s a shame.\")"
      ],
      "execution_count": 25,
      "outputs": [
        {
          "output_type": "execute_result",
          "data": {
            "application/vnd.google.colaboratory.intrinsic+json": {
              "type": "string"
            },
            "text/plain": [
              "'3'"
            ]
          },
          "metadata": {
            "tags": []
          },
          "execution_count": 25
        }
      ]
    },
    {
      "cell_type": "code",
      "metadata": {
        "colab": {
          "base_uri": "https://localhost:8080/",
          "height": 35
        },
        "id": "wzGbFVv0OF-r",
        "outputId": "db0a8798-070c-4ba9-b520-f8017c253f85"
      },
      "source": [
        "# actual rating was 5\n",
        "predictor.predict(\"I've had great luck with items from sunday in brooklyn & this vest is another fantastic purchase. the color/fit match the photos. the material is so soft. i've worn it quite a bit since i received it and it hasn't pilled. it's washed well too. the braided part can be folded down if you don't want it higher on your neck. it will still lay flat & drape nicely. it's perfect for cold weather. i'd love to see this come out in other colors too.\")"
      ],
      "execution_count": 26,
      "outputs": [
        {
          "output_type": "execute_result",
          "data": {
            "application/vnd.google.colaboratory.intrinsic+json": {
              "type": "string"
            },
            "text/plain": [
              "'5'"
            ]
          },
          "metadata": {
            "tags": []
          },
          "execution_count": 26
        }
      ]
    },
    {
      "cell_type": "code",
      "metadata": {
        "colab": {
          "base_uri": "https://localhost:8080/",
          "height": 35
        },
        "id": "jTzZf2CdONIG",
        "outputId": "17e4fe2a-8939-471a-c3b7-21b3ff691023"
      },
      "source": [
        "# actual rating was 2\n",
        "predictor.predict(\"I initially liked the feel and quality of the top but once it was on it was much shorter and looser than the picture of the model. it flowed out from my chest with one central pleat in the front and my husband said it made me look pregnant. then came the tedious task of taking it off with such a snug fit in the shoulders. i'm regularly a size 2/xs, 32d and 120 lbs and both size 2 and 4 did not work for me.\")"
      ],
      "execution_count": 27,
      "outputs": [
        {
          "output_type": "execute_result",
          "data": {
            "application/vnd.google.colaboratory.intrinsic+json": {
              "type": "string"
            },
            "text/plain": [
              "'3'"
            ]
          },
          "metadata": {
            "tags": []
          },
          "execution_count": 27
        }
      ]
    },
    {
      "cell_type": "code",
      "metadata": {
        "colab": {
          "base_uri": "https://localhost:8080/",
          "height": 35
        },
        "id": "x8KpnkoIOSat",
        "outputId": "507c1da2-d6b8-455a-ee8c-3b310ca9530f"
      },
      "source": [
        "# actual rating was 5\n",
        "predictor.predict(\"This vest is so functional. i think it is much prettier in person than in this photo. it has a much softer look to it and is less orange, more tan. i've worn it with a lot of different things: over a sweater dress at work, with soft pants and a long-sleeve t-shirt, or skinny jeans/pants and a simple top. wish it came in other colors (gray, navy or green would all be amazing)...one of my favorite pieces this season for sure. i do think it runs a little bit large, but i think the next size smaller\")"
      ],
      "execution_count": 28,
      "outputs": [
        {
          "output_type": "execute_result",
          "data": {
            "application/vnd.google.colaboratory.intrinsic+json": {
              "type": "string"
            },
            "text/plain": [
              "'5'"
            ]
          },
          "metadata": {
            "tags": []
          },
          "execution_count": 28
        }
      ]
    },
    {
      "cell_type": "code",
      "metadata": {
        "colab": {
          "base_uri": "https://localhost:8080/",
          "height": 35
        },
        "id": "ehc-NNgZOTUv",
        "outputId": "4457a8a5-1c1e-4131-8df1-3282f719f5de"
      },
      "source": [
        "# actual rating was 2\n",
        "predictor.predict(\"I looked at this dress for a long time before i purchased it because of the money. i wear a size 2p. was entirely disappointed in the style and construction of this dress. for one thing the lining is bulky and you could never wear it in warmer weather without burning up. the dress as pictured looks very feminine and light weight silk but there is just too much material going on--- thick and heavy. the overall fit was too big and very unflattering.\")"
      ],
      "execution_count": 29,
      "outputs": [
        {
          "output_type": "execute_result",
          "data": {
            "application/vnd.google.colaboratory.intrinsic+json": {
              "type": "string"
            },
            "text/plain": [
              "'3'"
            ]
          },
          "metadata": {
            "tags": []
          },
          "execution_count": 29
        }
      ]
    },
    {
      "cell_type": "markdown",
      "metadata": {
        "id": "Uv-XOgJtnC6t"
      },
      "source": [
        "-----END OF CODE-----"
      ]
    }
  ]
}